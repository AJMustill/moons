{
 "cells": [
  {
   "cell_type": "code",
   "execution_count": 1,
   "id": "c1c5637b",
   "metadata": {},
   "outputs": [],
   "source": [
    "import rebound\n",
    "import time\n",
    "import sys\n",
    "import numpy as np\n",
    "from matplotlib import pyplot as plt\n",
    "from astropy import units as u\n",
    "from astropy import constants as c\n",
    "\n",
    "# local imports\n",
    "import heartbeat\n",
    "import globs\n",
    "import metasim"
   ]
  },
  {
   "cell_type": "code",
   "execution_count": 2,
   "id": "e6f3042a",
   "metadata": {},
   "outputs": [],
   "source": [
    "def run_sim(filestem='test/test'):\n",
    "    \n",
    "    # global variables\n",
    "\n",
    "    globs.initialise()\n",
    "\n",
    "    globs.glob_dclo = 1. #CE distance to check in rH\n",
    "    #dir = 'test/'\n",
    "    globs.glob_archive = ''\n",
    "    #globals.glob_names = []\n",
    "    globs.glob_is_close = False\n",
    "\n",
    "    system = metasim.MetaSim(filestem=filestem)\n",
    "    system.run_planets()\n",
    "    if globs.glob_is_close:\n",
    "        system.rewind()\n",
    "        system.add_moons()\n",
    "        system.run_moons()\n",
    "        system.analyse()\n",
    "        system.make_timeline()"
   ]
  },
  {
   "cell_type": "code",
   "execution_count": 3,
   "id": "6c6b38e1",
   "metadata": {
    "scrolled": false
   },
   "outputs": [
    {
     "name": "stdout",
     "output_type": "stream",
     "text": [
      "Simulation test/test0026\n",
      "\n",
      "Restored from save\n"
     ]
    },
    {
     "name": "stderr",
     "output_type": "stream",
     "text": [
      "/Users/alexander/research/circumplanetary_discs/rebound/rebound/rebound/simulation.py:505: RuntimeWarning: You have to reset function pointers after creating a reb_simulation struct with a binary file.\n",
      "  warnings.warn(message, RuntimeWarning)\n",
      "/Users/alexander/research/circumplanetary_discs/rebound/rebound/rebound/simulation.py:712: RuntimeWarning: File in use for SimulationArchive already exists. Snapshots will be appended.\n",
      "  warnings.warn(msg[1:], RuntimeWarning)\n",
      "/Users/alexander/research/circumplanetary_discs/rebound/rebound/rebound/simulationarchive.py:146: RuntimeWarning: You have to reset function pointers after creating a reb_simulation struct with a binary file.\n",
      "  warnings.warn(message, RuntimeWarning)\n"
     ]
    },
    {
     "name": "stdout",
     "output_type": "stream",
     "text": [
      "Planet1 bound to EPIC220208795: a=1.36114303681754 e=0.3043804059603079\n",
      "Planet2 bound to EPIC220208795: a=3.1567645846419476 e=0.31932471803786894\n",
      "Europa1 bound to Galaxy: a=-1.6702361023117998 e=6.235892782827845\n",
      "Io2 bound to EPIC220208795: a=1.0712064655568465 e=0.05163097123292149\n",
      "Europa2 bound to EPIC220208795: a=2.164879109133929 e=0.39118498194011503\n",
      "('Io1', 'Planet1')\n",
      "(0.10035755243573659, 0.18888888888888888)\n",
      "black\n",
      "('Callisto2', 'Planet1')\n",
      "(0.10035835904205596, 0.3666666666666667)\n",
      "black\n",
      "('Ganymede1', 'Planet1')\n",
      "(0.10035840577737108, 0.2777777777777778)\n",
      "black\n",
      "('Callisto1', 'Planet2')\n",
      "(0.10043079927244981, 0.7027777777777778)\n",
      "gainsboro\n",
      "('Ganymede2', 'EPIC220208795')\n"
     ]
    },
    {
     "data": {
      "image/png": "[encoded data removed]",
      "text/plain": [
       "<Figure size 504x288 with 1 Axes>"
      ]
     },
     "metadata": {
      "needs_background": "light"
     },
     "output_type": "display_data"
    }
   ],
   "source": [
    "#Nsys = 1\n",
    "\n",
    "#for i in range(Nsys):\n",
    "#    run_sim(filestem=f'test/test{i:04d}')\n",
    "\n",
    "i = 26\n",
    "run_sim(filestem=f'test/test{i:04d}')"
   ]
  },
  {
   "cell_type": "code",
   "execution_count": null,
   "id": "031f0a54",
   "metadata": {},
   "outputs": [],
   "source": []
  }
 ],
 "metadata": {
  "kernelspec": {
   "display_name": "Python 3 (ipykernel)",
   "language": "python",
   "name": "python3"
  },
  "language_info": {
   "codemirror_mode": {
    "name": "ipython",
    "version": 3
   },
   "file_extension": ".py",
   "mimetype": "text/x-python",
   "name": "python",
   "nbconvert_exporter": "python",
   "pygments_lexer": "ipython3",
   "version": "3.9.7"
  }
 },
 "nbformat": 4,
 "nbformat_minor": 5
}

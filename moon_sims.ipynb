{
 "cells": [
  {
   "cell_type": "code",
   "execution_count": 2,
   "id": "c1c5637b",
   "metadata": {},
   "outputs": [],
   "source": [
    "import rebound\n",
    "import time\n",
    "import sys\n",
    "import numpy as np\n",
    "from matplotlib import pyplot as plt\n",
    "from astropy import units as u\n",
    "from astropy import constants as c\n",
    "\n",
    "# local imports\n",
    "import heartbeat\n",
    "import globs\n",
    "import metasim"
   ]
  },
  {
   "cell_type": "code",
   "execution_count": 3,
   "id": "e6f3042a",
   "metadata": {},
   "outputs": [],
   "source": [
    "def run_sim(filestem='test/test'):\n",
    "    \n",
    "    # global variables\n",
    "\n",
    "    globs.initialise()\n",
    "\n",
    "    globs.glob_dclo = 1. #CE distance to check in rH\n",
    "    #dir = 'test/'\n",
    "    globs.glob_archive = ''\n",
    "    #globals.glob_names = []\n",
    "    globs.glob_is_close = False\n",
    "\n",
    "    system = metasim.MetaSim(filestem=filestem)\n",
    "    system.run_planets()\n",
    "    if globs.glob_is_close:\n",
    "        system.rewind()\n",
    "        system.add_moons()\n",
    "        system.run_moons()\n",
    "        system.analyse()\n",
    "        system.make_timeline()"
   ]
  },
  {
   "cell_type": "code",
   "execution_count": 26,
   "id": "6c6b38e1",
   "metadata": {
    "scrolled": false
   },
   "outputs": [
    {
     "name": "stdout",
     "output_type": "stream",
     "text": [
      "Simulation test/test0026\n",
      "\n",
      "Creating new simulation...\n",
      "Running planets-only simulation...\n",
      "CE between Planet1 and Planet2 with dist 0.002598512898269157 au at 12450.447612305477 years\n",
      "<rebound.particle.Particle object at 0x7f7c510662c0, m=0.0019091884679386499 x=1.6593167250052423 y=-0.9299512235165618 z=0.0017134415639770933 vx=6.334142019829968 vy=6.693096407519347 vz=-1.0750814293993762>\n",
      "<rebound.particle.Particle object at 0x7f7c51066ec0, m=0.0019091884679386499 x=1.6578707155047316 y=-0.9278472787978008 z=0.002197943810929506 vx=-2.3082140201260515 vy=0.7214231680410109 vz=0.9123625075255235>\n",
      "CE between Planet2 and Planet1 with dist 0.002598512898269157 au at 12450.447612305477 years\n",
      "<rebound.particle.Particle object at 0x7f7c510669c0, m=0.0019091884679386499 x=1.6578707155047316 y=-0.9278472787978008 z=0.002197943810929506 vx=-2.3082140201260515 vy=0.7214231680410109 vz=0.9123625075255235>\n",
      "<rebound.particle.Particle object at 0x7f7c510662c0, m=0.0019091884679386499 x=1.6593167250052423 y=-0.9299512235165618 z=0.0017134415639770933 vx=6.334142019829968 vy=6.693096407519347 vz=-1.0750814293993762>\n",
      "CE between Planet1 and Planet2 with dist 0.036957202319528676 au at 12450.95119399717 years\n",
      "<rebound.particle.Particle object at 0x7f7c510661c0, m=0.0019091884679386499 x=1.5581506547090667 y=1.0750858211223213 z=-0.03563838838022993 vx=-1.2632969794350741 vy=4.081607674156187 vz=-0.04476054828634197>\n",
      "<rebound.particle.Particle object at 0x7f7c51066b40, m=0.0019091884679386499 x=1.5403447868087674 y=1.1068797949831413 z=-0.029479727994954075 vx=-3.5517163808289274 vy=2.857595412958629 vz=-0.037396762338176376>\n",
      "CE between Planet2 and Planet1 with dist 0.036957202319528676 au at 12450.95119399717 years\n",
      "<rebound.particle.Particle object at 0x7f7c510662c0, m=0.0019091884679386499 x=1.5403447868087674 y=1.1068797949831413 z=-0.029479727994954075 vx=-3.5517163808289274 vy=2.857595412958629 vz=-0.037396762338176376>\n",
      "<rebound.particle.Particle object at 0x7f7c510661c0, m=0.0019091884679386499 x=1.5581506547090667 y=1.0750858211223213 z=-0.03563838838022993 vx=-1.2632969794350741 vy=4.081607674156187 vz=-0.04476054828634197>\n",
      "Planets-only simulation complete\n",
      "12451.0 years took 12.77691388130188 seconds\n",
      "Rewinding simulation...\n",
      "Simulation rewound 1 years\n",
      "Adding moons...\n",
      "Moons added\n",
      "Running moons simulation...\n"
     ]
    },
    {
     "name": "stderr",
     "output_type": "stream",
     "text": [
      "/Users/alexander/research/circumplanetary_discs/rebound/rebound/rebound/simulation.py:712: RuntimeWarning: File in use for SimulationArchive already exists. Snapshots will be appended.\n",
      "  warnings.warn(msg[1:], RuntimeWarning)\n"
     ]
    },
    {
     "name": "stdout",
     "output_type": "stream",
     "text": [
      "CE between Planet2 and Planet1 with dist 1.0894267681561295e-05 au at 12450.44673947147 years\n",
      "Planet2 removed by collision with Planet1 at 12450.44673947147 years\n",
      "<rebound.particle.Particle object at 0x7f7c51066ac0, m=0.0019091884679386499 x=1.657442620278248 y=-0.9305735616955584 z=0.0019470022765869833 vx=-2.6088645178487577 vy=3.258785180463472 vz=1.1292556454180758>\n",
      "<rebound.particle.Particle object at 0x7f7c51066dc0, m=0.0019091884679386499 x=1.6563169107865754 y=-0.9335696537693874 z=0.0021040607946762216 vx=6.649184381435658 vy=4.147540343094724 vz=-1.2918917860859997>\n",
      "Orbelts: a = 0.08778259374614551 au; e = 0.9705801020252889 ; I = 0.2639904762169638 ; Omega = 1.3939477579181438; omega = 0.7308463806614451 ; MA = 6.279342892992691\n",
      "Current planets: Planet1\n",
      "Io1 removed by collision with Planet1 at 12450.446881588585 years\n",
      "<rebound.particle.Particle object at 0x7f7c71c560c0, m=4.490849162294055e-08 x=1.6590621677557247 y=-0.9323942010990045 z=0.0018991100296668563 vx=2.1661396588027912 vy=12.376533884793492 vz=-1.5592671921582348>\n",
      "<rebound.particle.Particle object at 0x7f7c71c56240, m=0.0038183769358772998 x=1.6571667880809884 y=-0.9315452809653738 z=0.0020139746085022325 vx=2.0190837638874877 vy=3.7037830172485324 vz=-0.0813222909315889>\n",
      "Orbelts: a = 0.002232496910277226 au; e = 0.3830354677468582 ; I = 0.2128913092486651 ; Omega = 2.4617593647026896; omega = 5.198325454176013 ; MA = 5.268596687158966\n",
      "Current planets: Planet1\n",
      "Callisto2 removed by collision with Planet1 at 12450.447836813024 years\n",
      "<rebound.particle.Particle object at 0x7f7c71c56340, m=5.409653684311735e-08 x=1.6610780455696976 y=-0.9281852399054578 z=0.0025303346826385637 vx=-5.04550125304743 vy=12.10640970360126 vz=-1.1500799679111078>\n",
      "<rebound.particle.Particle object at 0x7f7c71c560c0, m=0.0038184218443689227 x=1.659091894746671 y=-0.9280051623976456 z=0.0019362641450803725 vx=2.0115798441883452 vy=3.7082442729860423 vz=-0.08135138036580424>\n",
      "Orbelts: a = 0.0064398820946855685 au; e = 0.8528132496608165 ; I = 0.32686665024471384 ; Omega = -1.1634341011462115; omega = 2.8502868842753255 ; MA = 6.148027793198732\n",
      "Current planets: Planet1\n",
      "Ganymede2 removed by collision with Planet1 at 12458.683234034466 years\n",
      "<rebound.particle.Particle object at 0x7f7c51066ac0, m=7.450569667771914e-08 x=-0.31836595433315357 y=-1.9197286868113754 z=0.03747711485182027 vx=-1.8286476421545403 vy=-10.132301986066578 vz=-4.740425002217>\n",
      "<rebound.particle.Particle object at 0x7f7c510664c0, m=0.0038184759409057656 x=-0.31955260076363606 y=-1.9203997522373983 z=0.035981984850243 vx=4.077477262259055 vy=-0.5905165393914874 vz=-0.024386085480399392>\n",
      "Orbelts: a = 0.1800311848918433 au; e = 0.9965328585976245 ; I = 2.1375927374821933 ; Omega = 1.2873148790774753; omega = 3.0337785022287793 ; MA = 6.282428104660961\n",
      "Current planets: Planet1\n",
      "Callisto1 removed by collision with Planet1 at 12578.341953277128 years\n",
      "<rebound.particle.Particle object at 0x7f7c510668c0, m=5.409653684311735e-08 x=-1.956148480874392 y=-0.30359028668553656 z=0.022119763805171333 vx=-0.05878930726448628 vy=-15.897708397329891 vz=-0.8212114727924124>\n",
      "<rebound.particle.Particle object at 0x7f7c51066b40, m=0.0038185504466024434 x=-1.95412416134609 y=-0.3040296405794138 z=0.021918694603561013 vx=0.6255429846669147 vy=-4.006068811680934 vz=0.06405981143849986>\n",
      "Orbelts: a = 0.06842201601122698 au; e = 0.9703896702885091 ; I = 0.11359547694312659 ; Omega = 0.8038165586928397; omega = 2.45081159409974 ; MA = 6.281966994221519\n",
      "Current planets: Planet1\n",
      "Moons simulation complete\n",
      "1000.0 years took 177.32046604156494 seconds\n"
     ]
    },
    {
     "name": "stderr",
     "output_type": "stream",
     "text": [
      "/Users/alexander/research/circumplanetary_discs/rebound/rebound/rebound/simulationarchive.py:146: RuntimeWarning: You have to reset function pointers after creating a reb_simulation struct with a binary file.\n",
      "  warnings.warn(message, RuntimeWarning)\n"
     ]
    },
    {
     "name": "stdout",
     "output_type": "stream",
     "text": [
      "Planet1 bound to EPIC220208795: a=1.9438438957298059 e=0.021988790233000835\n",
      "Europa1 bound to Planet1: a=0.041537434724534104 e=0.8821495484020893\n",
      "Ganymede1 bound to Planet1: a=0.005120754250207132 e=0.18157934489810557\n",
      "Io2 bound to Galaxy: a=-4.91377869210227 e=2.55216644725091\n",
      "Europa2 bound to EPIC220208795: a=27.140268926478864 e=0.9321771070678563\n"
     ]
    },
    {
     "data": {
      "image/png": "[encoded data removed]",
      "text/plain": [
       "<Figure size 504x288 with 1 Axes>"
      ]
     },
     "metadata": {
      "needs_background": "light"
     },
     "output_type": "display_data"
    }
   ],
   "source": [
    "#Nsys = 1\n",
    "\n",
    "#for i in range(Nsys):\n",
    "#    run_sim(filestem=f'test/test{i:04d}')\n",
    "\n",
    "i = 26\n",
    "run_sim(filestem=f'test/test{i:04d}')"
   ]
  },
  {
   "cell_type": "code",
   "execution_count": null,
   "id": "031f0a54",
   "metadata": {},
   "outputs": [],
   "source": []
  }
 ],
 "metadata": {
  "kernelspec": {
   "display_name": "Python 3 (ipykernel)",
   "language": "python",
   "name": "python3"
  },
  "language_info": {
   "codemirror_mode": {
    "name": "ipython",
    "version": 3
   },
   "file_extension": ".py",
   "mimetype": "text/x-python",
   "name": "python",
   "nbconvert_exporter": "python",
   "pygments_lexer": "ipython3",
   "version": "3.9.7"
  }
 },
 "nbformat": 4,
 "nbformat_minor": 5
}

{
 "cells": [
  {
   "cell_type": "code",
   "execution_count": 1,
   "id": "c1c5637b",
   "metadata": {},
   "outputs": [],
   "source": [
    "import rebound\n",
    "import time\n",
    "import sys\n",
    "import numpy as np\n",
    "from matplotlib import pyplot as plt\n",
    "from astropy import units as u\n",
    "from astropy import constants as c\n",
    "\n",
    "# local imports\n",
    "import heartbeat\n",
    "import globs\n",
    "import metasim"
   ]
  },
  {
   "cell_type": "code",
   "execution_count": 2,
   "id": "e6f3042a",
   "metadata": {},
   "outputs": [],
   "source": [
    "def run_sim(filestem='test/test'):\n",
    "    \n",
    "    # global variables\n",
    "\n",
    "    globs.initialise()\n",
    "\n",
    "    globs.glob_dclo = 1. #CE distance to check in rH\n",
    "    #dir = 'test/'\n",
    "    globs.glob_archive = ''\n",
    "    #globals.glob_names = []\n",
    "    globs.glob_is_close = False\n",
    "\n",
    "    sys = metasim.MetaSim(filestem=filestem)\n",
    "    sys.run_planets()\n",
    "    if globs.glob_is_close:\n",
    "        sys.rewind()\n",
    "        sys.add_moons()\n",
    "        sys.run_moons()\n",
    "        sys.analyse()\n",
    "        sys.make_timeline()"
   ]
  },
  {
   "cell_type": "code",
   "execution_count": 3,
   "id": "6c6b38e1",
   "metadata": {},
   "outputs": [
    {
     "name": "stdout",
     "output_type": "stream",
     "text": [
      "Simulation test/test0001\n",
      "\n",
      "Creating new simulation...\n",
      "Running planets-only simulation...\n",
      "CE between Planet1 and Planet2 with dist 0.037477301204427174 au at 3574.744857412121 years\n",
      "<rebound.particle.Particle object at 0x7f87410beac0, m=0.0019091884679386499 x=-1.257951922721229 y=1.561636522344932 z=-0.012232572607888622 vx=-3.879509095603708 vy=-3.4187718820212387 vz=0.4035662412516596>\n",
      "<rebound.particle.Particle object at 0x7f87410bea40, m=0.0019091884679386499 x=-1.2260532457033146 y=1.5419871995587895 z=-0.011269959435258844 vx=-2.443146954392125 vy=-1.3298252591560271 vz=-0.3512326929653351>\n",
      "CE between Planet2 and Planet1 with dist 0.037477301204427174 au at 3574.744857412121 years\n",
      "<rebound.particle.Particle object at 0x7f87410beb40, m=0.0019091884679386499 x=-1.2260532457033146 y=1.5419871995587895 z=-0.011269959435258844 vx=-2.443146954392125 vy=-1.3298252591560271 vz=-0.3512326929653351>\n",
      "<rebound.particle.Particle object at 0x7f87410be9c0, m=0.0019091884679386499 x=-1.257951922721229 y=1.561636522344932 z=-0.012232572607888622 vx=-3.879509095603708 vy=-3.4187718820212387 vz=0.4035662412516596>\n",
      "Planets-only simulation complete\n",
      "3575.0 years took 14.481673002243042 seconds\n",
      "Rewinding simulation...\n",
      "CE between Planet1 and Planet2 with dist 0.037469378254642985 au at 3574.742227701079 years\n",
      "<rebound.particle.Particle object at 0x7f87410becc0, m=0.0019091884679386499 x=-1.2475800277212394 y=1.5704979995072035 z=-0.013285591530562526 vx=-4.006153766392279 vy=-3.3173878619618313 vz=0.39605491044778185>\n",
      "<rebound.particle.Particle object at 0x7f87410be340, m=0.0019091884679386499 x=-1.2197620798311433 y=1.5455676338350894 z=-0.010354218229857885 vx=-2.34408340565496 vy=-1.3965583571709876 vz=-0.3439834619264567>\n",
      "CE between Planet2 and Planet1 with dist 0.037469378254642985 au at 3574.742227701079 years\n",
      "<rebound.particle.Particle object at 0x7f87410bec40, m=0.0019091884679386499 x=-1.2197620798311433 y=1.5455676338350894 z=-0.010354218229857885 vx=-2.34408340565496 vy=-1.3965583571709876 vz=-0.3439834619264567>\n",
      "<rebound.particle.Particle object at 0x7f87410bed40, m=0.0019091884679386499 x=-1.2475800277212394 y=1.5704979995072035 z=-0.013285591530562526 vx=-4.006153766392279 vy=-3.3173878619618313 vz=0.39605491044778185>\n",
      "Simulation rewound 1 years\n",
      "Adding moons...\n",
      "Moons added\n",
      "Running moons simulation...\n"
     ]
    },
    {
     "name": "stderr",
     "output_type": "stream",
     "text": [
      "/Users/alexander/research/circumplanetary_discs/rebound/rebound/rebound/simulation.py:712: RuntimeWarning: File in use for SimulationArchive already exists. Snapshots will be appended.\n",
      "  warnings.warn(msg[1:], RuntimeWarning)\n"
     ]
    },
    {
     "name": "stdout",
     "output_type": "stream",
     "text": [
      "CE between Planet1 and Planet2 with dist 0.03749975174657276 au at 3574.7434817923804 years\n",
      "<rebound.particle.Particle object at 0x7f874113d8c0, m=0.0019091884679386499 x=-1.252478781543692 y=1.5661517726623237 z=-0.012770370450591454 vx=-3.944580722926975 vy=-3.368642222493547 vz=0.3998071023116296>\n",
      "<rebound.particle.Particle object at 0x7f874113d840, m=0.0019091884679386499 x=-1.2224843575249518 y=1.5437305450473386 z=-0.010807092305336208 vx=-2.391946890247061 vy=-1.3624194566730208 vz=-0.34761742222239533>\n",
      "CE between Planet2 and Planet1 with dist 0.03749975174657276 au at 3574.7434817923804 years\n",
      "<rebound.particle.Particle object at 0x7f874113dac0, m=0.0019091884679386499 x=-1.2224843575249518 y=1.5437305450473386 z=-0.010807092305336208 vx=-2.391946890247061 vy=-1.3624194566730208 vz=-0.34761742222239533>\n",
      "<rebound.particle.Particle object at 0x7f874113da40, m=0.0019091884679386499 x=-1.252478781543692 y=1.5661517726623237 z=-0.012770370450591454 vx=-3.944580722926975 vy=-3.368642222493547 vz=0.3998071023116296>\n",
      "CE between Planet1 and Planet2 with dist 0.15796406085172393 au at 3590.0636530946367 years\n",
      "<rebound.particle.Particle object at 0x7f874113dd40, m=0.0019091884679386499 x=-1.858431599076958 y=-0.3200686636899965 z=-0.009072052802361095 vx=0.7389523739763337 vy=-3.314605502709429 vz=0.017369057119874715>\n",
      "<rebound.particle.Particle object at 0x7f874113db40, m=0.0019091884679386499 x=-2.009544112854307 y=-0.35629977181348726 z=0.019299755472784574 vx=1.0236070573264189 vy=-4.475909205578795 vz=0.05307828463006337>\n",
      "CE between Planet2 and Planet1 with dist 0.15796406085172393 au at 3590.0636530946367 years\n",
      "<rebound.particle.Particle object at 0x7f874113d940, m=0.0019091884679386499 x=-2.009544112854307 y=-0.35629977181348726 z=0.019299755472784574 vx=1.0236070573264189 vy=-4.475909205578795 vz=0.05307828463006337>\n",
      "<rebound.particle.Particle object at 0x7f874113dbc0, m=0.0019091884679386499 x=-1.858431599076958 y=-0.3200686636899965 z=-0.009072052802361095 vx=0.7389523739763337 vy=-3.314605502709429 vz=0.017369057119874715>\n",
      "Planet2 removed by collision with Planet1 at 3623.607367361941 years\n",
      "<rebound.particle.Particle object at 0x7f874113da40, m=0.0019091884679386499 x=1.2942105141399016 y=1.297158663296335 z=-0.01684901914989408 vx=1.4589224628363715 vy=3.1006495357508883 vz=2.2106898567328694>\n",
      "<rebound.particle.Particle object at 0x7f874113da40, m=0.0019091884679386499 x=1.2963291393056737 y=1.2977073815833373 z=-0.014524726884456557 vx=-7.070203678718556 vy=3.4399245617244585 vz=-2.2641942291021304>\n",
      "Orbelts: a = 0.09743753075489338 au; e = 0.9949947548810639 ; I = 1.1087214492096742 ; Omega = -0.30391119438729813; omega = 3.294301780541584 ; MA = 6.279805287078448\n",
      "Current planets: Planet1\n",
      "Io1 removed by collision with Planet1 at 3623.607379204465 years\n",
      "<rebound.particle.Particle object at 0x7f874113dc40, m=0.0038183769358772998 x=1.2952366004138014 y=1.297471750417229 z=-0.015687189837086595 vx=-2.8057154256248937 vy=3.2702068234379653 vz=-0.02675323976810519>\n",
      "<rebound.particle.Particle object at 0x7f874113dc40, m=4.490849162294055e-08 x=1.2967042918815903 y=1.2982673713419919 z=-0.016484220726657575 vx=-1.2276929572157775 vy=8.135739806357979 vz=4.608915150704663>\n",
      "Orbelts: a = 0.001307239712579159 au; e = 0.4515454011915386 ; I = 1.081609114138601 ; Omega = 0.7537182786701876; omega = 2.88223197172295 ; MA = 2.5599197560960825\n",
      "Current planets: Planet1\n",
      "Io2 removed by collision with Planet1 at 3623.607757730856 years\n",
      "<rebound.particle.Particle object at 0x7f874113de40, m=0.0038184218443689227 x=1.294174110137647 y=1.2987091430226003 z=-0.015697293928354398 vx=-2.808201153510803 vy=3.267648829735229 vz=-0.02663575212665642>\n",
      "<rebound.particle.Particle object at 0x7f874113de40, m=4.490849162294055e-08 x=1.2958958210584732 y=1.2997851129915947 z=-0.015503413028529485 vx=-11.026751523069645 vy=7.635365622260216 vz=-3.1917773821466047>\n",
      "Orbelts: a = 0.002945220169745241 au; e = 0.5680732969605579 ; I = 0.33740354127655464 ; Omega = -2.3073491749641684; omega = 4.4597407111103875 ; MA = 5.762055440966076\n",
      "Current planets: Planet1\n",
      "Ganymede1 removed by collision with Planet1 at 3623.608861058541 years\n",
      "<rebound.particle.Particle object at 0x7f874113d8c0, m=0.0038184667528605456 x=1.2910715058702167 y=1.3023103017601572 z=-0.015726599193205827 vx=-2.815833902400977 vy=3.2600564594511057 vz=-0.02636994324716401>\n",
      "<rebound.particle.Particle object at 0x7f874113d8c0, m=7.450569667771914e-08 x=1.2910206922338778 y=1.3013572080290285 z=-0.013924200232772178 vx=-8.676522413162136 vy=-0.6583736967041791 vz=-7.512803699617762>\n",
      "Orbelts: a = 0.00358272053096692 au; e = 0.5926844393012379 ; I = 1.862706357182092 ; Omega = 0.9141150913505826; omega = 3.299413095678164 ; MA = 5.933087868628755\n",
      "Current planets: Planet1\n",
      "Callisto2 removed by collision with Planet1 at 3623.6099944431016 years\n",
      "<rebound.particle.Particle object at 0x7f874113dc40, m=0.0038185412585572233 x=1.2878755065211913 y=1.306000594567324 z=-0.01575656542419072 vx=-2.8237388509161057 vy=3.252032078948967 vz=-0.02643518830867286>\n",
      "<rebound.particle.Particle object at 0x7f874113dc40, m=5.409653684311735e-08 x=1.289841613068186 y=1.3065192598103095 z=-0.0162265484121917 vx=-12.793145178326 vy=8.553970718294346 vz=-0.44689344860761004>\n",
      "Orbelts: a = 0.008979684114832827 au; e = 0.8911069041410462 ; I = 0.36519493475469456 ; Omega = 2.750357761404403; omega = 5.522904364407648 ; MA = 6.203020620543166\n",
      "Current planets: Planet1\n",
      "Europa2 removed by collision with Europa1 at 3648.7150562357724 years\n",
      "<rebound.particle.Particle object at 0x7f874113dd40, m=2.4132719585292833e-08 x=1.5850804097464082 y=0.8285958893527879 z=-0.013586597938842671 vx=3.2294181915197107 vy=2.3227034226444583 vz=-0.6988479814472901>\n",
      "<rebound.particle.Particle object at 0x7f874113dd40, m=2.4132719585292833e-08 x=1.5850879573709729 y=0.8286152892817431 z=-0.013587688669928065 vx=1.0943249957388188 vy=-0.7381675195571182 vz=-1.6787527009462>\n",
      "Orbelts: a = -1.295734225812788e-07 au; e = 61.37012974691411 ; I = 0.926278703772644 ; Omega = -1.9812229066024192; omega = 4.40417029200752 ; MA = 2.6319788176568863\n",
      "Current planets: Planet1\n",
      "Callisto1 removed by collision with Ganymede2 at 3944.622820629662 years\n",
      "<rebound.particle.Particle object at 0x7f874113dec0, m=5.409653684311735e-08 x=-1.7536330451428288 y=-0.8364654556169444 z=0.015121160789653428 vx=4.488253097205266 vy=-0.17105396799217293 vz=-0.005924686710617167>\n",
      "<rebound.particle.Particle object at 0x7f874113dec0, m=7.450569667771914e-08 x=-1.7536002400925808 y=-0.8364592697957591 z=0.015116579779923313 vx=0.99070314682913 vy=0.9870061592639322 vz=-1.1425870527335968>\n",
      "Orbelts: a = -3.485719205235543e-07 au; e = 60.147051780564716 ; I = 0.7298012506940724 ; Omega = -3.109225668657818; omega = 1.1258786254867195 ; MA = 5.795828971628005\n",
      "Current planets: Planet1\n",
      "Moons simulation complete\n",
      "1000.0 years took 161.8928439617157 seconds\n"
     ]
    },
    {
     "name": "stderr",
     "output_type": "stream",
     "text": [
      "/Users/alexander/research/circumplanetary_discs/rebound/rebound/rebound/simulationarchive.py:146: RuntimeWarning: You have to reset function pointers after creating a reb_simulation struct with a binary file.\n",
      "  warnings.warn(message, RuntimeWarning)\n"
     ]
    },
    {
     "name": "stdout",
     "output_type": "stream",
     "text": [
      "3575.0 ['Planet1' 'Planet1' 'Planet1' 'Planet1' 'Planet2' 'Planet2' 'Planet2'\n",
      " 'Planet2']\n",
      "3623.0000598951583 ['Planet2' 'Planet1' 'Planet2' 'Planet1' 'Planet2' 'Planet2' 'Planet2'\n",
      " 'Planet2']\n",
      "3623.607367361941 ['Planet1' 'Planet1' 'Planet1' 'Planet1' 'Planet1' 'Planet1' 'Planet1'\n",
      " 'Planet1']\n",
      "3623.607379204465 [None 'Planet1' 'Planet1' 'Planet1' 'Planet1' 'Planet1' 'Planet1'\n",
      " 'Planet1']\n",
      "3623.607757730856 [None 'Planet1' 'Planet1' 'Planet1' None 'Planet1' 'Planet1' 'Planet1']\n",
      "3623.608861058541 [None 'Planet1' None 'Planet1' None 'Planet1' 'Planet1' 'Planet1']\n",
      "3623.6099944431016 [None 'Planet1' None 'Planet1' None 'Planet1' 'Planet1' None]\n",
      "3648.7150562357724 [None 'Planet1' None 'Planet1' None None 'Planet1' None]\n",
      "3944.622820629662 [None 'Planet1' None 'Planet1' None None None None]\n",
      "[[None 'Planet1' 'Planet1' ... None None None]\n",
      " [None 'Planet1' 'Planet1' ... 'Planet1' 'Planet1' 'Planet1']\n",
      " [None 'Planet1' 'Planet1' ... None None None]\n",
      " ...\n",
      " [None 'Planet2' 'Planet2' ... None None None]\n",
      " [None 'Planet2' 'Planet2' ... None None None]\n",
      " [None 'Planet2' 'Planet2' ... None None None]]\n",
      "(0.13968590336357192, 0.875)\n",
      "(0.13968620618468486, 0.6749999999999999)\n",
      "(0.13968708884683292, 0.775)\n",
      "(0.13968799555448133, 0.525)\n",
      "(0.15977204498861794, 0.625)\n",
      "(0.3964982565037295, 0.575)\n"
     ]
    },
    {
     "data": {
      "image/png": "[encoded data removed]",
      "text/plain": [
       "<Figure size 504x288 with 1 Axes>"
      ]
     },
     "metadata": {
      "needs_background": "light"
     },
     "output_type": "display_data"
    }
   ],
   "source": [
    "#Nsys = 1\n",
    "\n",
    "#for i in range(Nsys):\n",
    "#    run_sim(filestem=f'test/test{i:04d}')\n",
    "\n",
    "i = 1\n",
    "run_sim(filestem=f'test/test{i:04d}')"
   ]
  },
  {
   "cell_type": "code",
   "execution_count": null,
   "id": "d3dac2c1",
   "metadata": {},
   "outputs": [],
   "source": []
  }
 ],
 "metadata": {
  "kernelspec": {
   "display_name": "Python 3 (ipykernel)",
   "language": "python",
   "name": "python3"
  },
  "language_info": {
   "codemirror_mode": {
    "name": "ipython",
    "version": 3
   },
   "file_extension": ".py",
   "mimetype": "text/x-python",
   "name": "python",
   "nbconvert_exporter": "python",
   "pygments_lexer": "ipython3",
   "version": "3.9.7"
  }
 },
 "nbformat": 4,
 "nbformat_minor": 5
}

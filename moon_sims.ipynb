{
 "cells": [
  {
   "cell_type": "code",
   "execution_count": 1,
   "id": "c1c5637b",
   "metadata": {},
   "outputs": [],
   "source": [
    "import rebound\n",
    "import time\n",
    "import sys\n",
    "import warnings\n",
    "import numpy as np\n",
    "from matplotlib import pyplot as plt\n",
    "from astropy import units as u\n",
    "from astropy import constants as c\n",
    "\n",
    "# local imports\n",
    "import heartbeat\n",
    "import globs\n",
    "import metasim"
   ]
  },
  {
   "cell_type": "code",
   "execution_count": 2,
   "id": "489d1c83",
   "metadata": {},
   "outputs": [],
   "source": [
    "#Yes REBOUND I know I might restore from save...\n",
    "warnings.filterwarnings(\"ignore\",message=\"You have to reset function pointers after creating a reb_simulation \"\n",
    "                        \"struct with a binary file\")\n",
    "warnings.filterwarnings(\"ignore\",message=\"File in use for SimulationArchive already exists. \"\n",
    "                        \"Snapshots will be appended\")"
   ]
  },
  {
   "cell_type": "code",
   "execution_count": 3,
   "id": "e6f3042a",
   "metadata": {},
   "outputs": [],
   "source": [
    "read_only = True\n",
    "\n",
    "systems = []\n",
    "\n",
    "def run_sim(filestem='test/test',tmoons=1e4):\n",
    "    \n",
    "    # global variables\n",
    "\n",
    "    globs.initialise()\n",
    "\n",
    "    globs.glob_dclo = 1. #CE distance to check in rH\n",
    "    #dir = 'test/'\n",
    "    globs.glob_archive = ''\n",
    "    #globals.glob_names = []\n",
    "    globs.glob_is_close = False\n",
    "\n",
    "    system = metasim.MetaSim(filestem=filestem,tmoons=tmoons)\n",
    "    if not read_only:\n",
    "        system.run_planets()\n",
    "        if globs.glob_is_close:\n",
    "            system.rewind()\n",
    "            system.add_moons()\n",
    "            system.run_moons()\n",
    "\n",
    "    system.analyse()\n",
    "    system.make_timeline()\n",
    "    \n",
    "    systems.append(system)"
   ]
  },
  {
   "cell_type": "code",
   "execution_count": null,
   "id": "6c6b38e1",
   "metadata": {
    "scrolled": false
   },
   "outputs": [
    {
     "name": "stdout",
     "output_type": "stream",
     "text": [
      "Simulation test/test0000\n",
      "\n",
      "Restored from save\n",
      "Planet1 bound to EPIC220208795: a=3.5230961908595093 e=0.502902542515528\n",
      "Planet2 bound to EPIC220208795: a=1.180344986922353 e=0.25918404013605434\n",
      "Ganymede1 bound to Planet1: a=0.007337035168043923 e=0.17136403975216613\n",
      "Callisto1 bound to EPIC220208795: a=13.733965581814209 e=0.7917730476682313\n",
      "Simulation test/test0001\n",
      "\n",
      "Restored from save\n"
     ]
    }
   ],
   "source": [
    "Nsys = 100\n",
    "\n",
    "for i in range(Nsys):\n",
    "    run_sim(filestem=f'test/test{i:04d}')\n"
   ]
  },
  {
   "cell_type": "code",
   "execution_count": null,
   "id": "fb18810d",
   "metadata": {},
   "outputs": [],
   "source": []
  }
 ],
 "metadata": {
  "kernelspec": {
   "display_name": "Python 3 (ipykernel)",
   "language": "python",
   "name": "python3"
  },
  "language_info": {
   "codemirror_mode": {
    "name": "ipython",
    "version": 3
   },
   "file_extension": ".py",
   "mimetype": "text/x-python",
   "name": "python",
   "nbconvert_exporter": "python",
   "pygments_lexer": "ipython3",
   "version": "3.9.12"
  }
 },
 "nbformat": 4,
 "nbformat_minor": 5
}

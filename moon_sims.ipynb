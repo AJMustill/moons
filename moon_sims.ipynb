{
 "cells": [
  {
   "cell_type": "code",
   "execution_count": 1,
   "id": "c1c5637b",
   "metadata": {},
   "outputs": [],
   "source": [
    "import rebound\n",
    "import time\n",
    "import sys\n",
    "import numpy as np\n",
    "from matplotlib import pyplot as plt\n",
    "from astropy import units as u\n",
    "from astropy import constants as c\n",
    "\n",
    "# local imports\n",
    "import heartbeat\n",
    "import globs\n",
    "import metasim"
   ]
  },
  {
   "cell_type": "code",
   "execution_count": 2,
   "id": "e6f3042a",
   "metadata": {},
   "outputs": [],
   "source": [
    "def run_sim(filestem='test/test'):\n",
    "    \n",
    "    # global variables\n",
    "\n",
    "    globs.initialise()\n",
    "\n",
    "    globs.glob_dclo = 1. #CE distance to check in rH\n",
    "    #dir = 'test/'\n",
    "    globs.glob_archive = ''\n",
    "    #globals.glob_names = []\n",
    "    globs.glob_is_close = False\n",
    "\n",
    "    system = metasim.MetaSim(filestem=filestem)\n",
    "    system.run_planets()\n",
    "    if globs.glob_is_close:\n",
    "        system.rewind()\n",
    "        system.add_moons()\n",
    "        system.run_moons()\n",
    "        system.analyse()\n",
    "        system.make_timeline()"
   ]
  },
  {
   "cell_type": "code",
   "execution_count": 23,
   "id": "6c6b38e1",
   "metadata": {
    "scrolled": false
   },
   "outputs": [
    {
     "name": "stdout",
     "output_type": "stream",
     "text": [
      "Simulation test/test0047\n",
      "\n",
      "Creating new simulation...\n",
      "Running planets-only simulation...\n",
      "CE between Planet1 and Planet2 with dist 0.011652307537636374 au at 8.683867608111681 years\n",
      "<rebound.particle.Particle object at 0x7f8de065fcc0, m=0.0019091884679386499 x=1.7188849191033422 y=-0.08682469162144438 z=-0.025047401278764217 vx=-1.9613543108739915 vy=3.812429564315651 vz=-0.7824523039962963>\n",
      "<rebound.particle.Particle object at 0x7f8de065f840, m=0.0019091884679386499 x=1.7152818534378236 y=-0.07631056686847995 z=-0.021547777093123822 vx=2.6083461237204557 vy=5.053786854924109 vz=0.8087818128608741>\n",
      "CE between Planet2 and Planet1 with dist 0.011652307537636374 au at 8.683867608111681 years\n",
      "<rebound.particle.Particle object at 0x7f8de065f040, m=0.0019091884679386499 x=1.7152818534378236 y=-0.07631056686847995 z=-0.021547777093123822 vx=2.6083461237204557 vy=5.053786854924109 vz=0.8087818128608741>\n",
      "<rebound.particle.Particle object at 0x7f8de065fdc0, m=0.0019091884679386499 x=1.7188849191033422 y=-0.08682469162144438 z=-0.025047401278764217 vx=-1.9613543108739915 vy=3.812429564315651 vz=-0.7824523039962963>\n",
      "Planets-only simulation complete\n",
      "9.0 years took 0.03216195106506348 seconds\n",
      "Rewinding simulation...\n",
      "Simulation rewound 1 years\n",
      "Adding moons...\n",
      "Moons added\n",
      "Running moons simulation...\n"
     ]
    },
    {
     "name": "stderr",
     "output_type": "stream",
     "text": [
      "/Users/alexander/research/circumplanetary_discs/rebound/rebound/rebound/simulation.py:712: RuntimeWarning: File in use for SimulationArchive already exists. Snapshots will be appended.\n",
      "  warnings.warn(msg[1:], RuntimeWarning)\n"
     ]
    },
    {
     "name": "stdout",
     "output_type": "stream",
     "text": [
      "Callisto2 removed by collision with Planet1 at 8.683556252286863 years\n",
      "<rebound.particle.Particle object at 0x7f8de065f3c0, m=5.409653684311735e-08 x=1.7194008330364134 y=-0.08791431553956057 z=-0.023548094249482683 vx=7.268664723911829 vy=10.140592985673136 vz=0.04867333323416599>\n",
      "<rebound.particle.Particle object at 0x7f8de065f840, m=0.0019091884679386499 x=1.7206781540963183 y=-0.0872116188727994 z=-0.024262231074091617 vx=-1.737960034049179 vy=3.3869679068059315 vz=-0.9050481690535188>\n",
      "Orbelts: a = -0.002166910379316892 au; e = 1.2551583753510405 ; I = 1.8100809900011723 ; Omega = -2.518856412653983; omega = 2.226548375387898 ; MA = 5.925360189938503\n",
      "Current planets: Planet1 Planet2\n",
      "CE between Planet1 and Planet2 with dist 0.011455148171679672 au at 8.684349474383636 years\n",
      "<rebound.particle.Particle object at 0x7f8de065f8c0, m=0.001909242564475493 x=1.7191998726251942 y=-0.08438153536695026 z=-0.02494355649767371 vx=-1.9696528696006905 vy=3.761705788872989 vz=-0.8027745192036306>\n",
      "<rebound.particle.Particle object at 0x7f8de065f040, m=0.0019091884679386499 x=1.7152246939122315 y=-0.07415458828455113 z=-0.021652974906381347 vx=2.6055742957011936 vy=5.105450503964878 vz=0.8292046585862058>\n",
      "CE between Planet2 and Planet1 with dist 0.011455148171679672 au at 8.684349474383636 years\n",
      "<rebound.particle.Particle object at 0x7f8de065fbc0, m=0.0019091884679386499 x=1.7152246939122315 y=-0.07415458828455113 z=-0.021652974906381347 vx=2.6055742957011936 vy=5.105450503964878 vz=0.8292046585862058>\n",
      "<rebound.particle.Particle object at 0x7f8de065fac0, m=0.001909242564475493 x=1.7191998726251942 y=-0.08438153536695026 z=-0.02494355649767371 vx=-1.9696528696006905 vy=3.761705788872989 vz=-0.8027745192036306>\n",
      "CE between Planet1 and Planet2 with dist 0.03181674407804376 au at 9.406211848494692 years\n",
      "<rebound.particle.Particle object at 0x7f8de065f3c0, m=0.001909242564475493 x=-0.2539661664562615 y=1.784970451359413 z=0.0067229114076281064 vx=-4.965321187271884 vy=-1.7444411690156072 vz=-0.16735479438443027>\n",
      "<rebound.particle.Particle object at 0x7f8de065fa40, m=0.0019091884679386499 x=-0.28026536073296054 y=1.800615693944529 z=0.01543405189421441 vx=-3.4027224794619095 vy=0.6492887072748713 vz=0.2818897626991668>\n",
      "CE between Planet2 and Planet1 with dist 0.03181674407804376 au at 9.406211848494692 years\n",
      "<rebound.particle.Particle object at 0x7f8de065fac0, m=0.0019091884679386499 x=-0.28026536073296054 y=1.800615693944529 z=0.01543405189421441 vx=-3.4027224794619095 vy=0.6492887072748713 vz=0.2818897626991668>\n",
      "<rebound.particle.Particle object at 0x7f8de065fc40, m=0.001909242564475493 x=-0.2539661664562615 y=1.784970451359413 z=0.0067229114076281064 vx=-4.965321187271884 vy=-1.7444411690156072 vz=-0.16735479438443027>\n",
      "CE between Planet1 and Planet2 with dist 0.14968364305286846 au at 95.79231187625619 years\n",
      "<rebound.particle.Particle object at 0x7f8de065fc40, m=0.001909242564475493 x=1.6599974722658457 y=-0.07150434896393919 z=-0.008896210413864996 vx=0.08613828981770484 vy=3.564058938442291 vz=0.00854061923405829>\n",
      "<rebound.particle.Particle object at 0x7f8de065fbc0, m=0.0019091884679386499 x=1.7977548981956086 y=-0.12388062305777618 z=-0.03506509481560588 vx=0.6865497720176768 vy=5.142041955179356 vz=0.005854543044244512>\n",
      "CE between Planet2 and Planet1 with dist 0.14968364305286846 au at 95.79231187625619 years\n",
      "<rebound.particle.Particle object at 0x7f8de065f8c0, m=0.0019091884679386499 x=1.7977548981956086 y=-0.12388062305777618 z=-0.03506509481560588 vx=0.6865497720176768 vy=5.142041955179356 vz=0.005854543044244512>\n",
      "<rebound.particle.Particle object at 0x7f8de065fac0, m=0.001909242564475493 x=1.6599974722658457 y=-0.07150434896393919 z=-0.008896210413864996 vx=0.08613828981770484 vy=3.564058938442291 vz=0.00854061923405829>\n",
      "Europa1 removed by collision with Io1 at 295.04171551973246 years\n",
      "<rebound.particle.Particle object at 0x7f8de065f040, m=2.4132719585292833e-08 x=1.3548273515307045 y=-0.008252054227476789 z=-0.02551678216652736 vx=-1.7839549486911803 vy=7.224584592913094 vz=1.829841714085659>\n",
      "<rebound.particle.Particle object at 0x7f8de065fdc0, m=4.490849162294055e-08 x=1.3548452332002257 y=-0.008247560669297865 z=-0.025503705028128282 vx=-1.3633558556795773 vy=6.609202387190226 vz=-1.0523671406428403>\n",
      "Orbelts: a = -3.161295486174916e-07 au; e = 63.22829052902579 ; I = 1.7923259282771065 ; Omega = -3.055828341609412; omega = 6.167557866875489 ; MA = 2.752767245487611\n",
      "Current planets: Planet1 Planet2\n"
     ]
    },
    {
     "ename": "KeyboardInterrupt",
     "evalue": "",
     "output_type": "error",
     "traceback": [
      "\u001b[0;31m---------------------------------------------------------------------------\u001b[0m",
      "\u001b[0;31mKeyboardInterrupt\u001b[0m                         Traceback (most recent call last)",
      "\u001b[0;32m/var/folders/18/fhf5cn256p3c92t460lnfct40000gn/T/ipykernel_95922/625625873.py\u001b[0m in \u001b[0;36m<module>\u001b[0;34m\u001b[0m\n\u001b[1;32m      5\u001b[0m \u001b[0;34m\u001b[0m\u001b[0m\n\u001b[1;32m      6\u001b[0m \u001b[0mi\u001b[0m \u001b[0;34m=\u001b[0m \u001b[0;36m47\u001b[0m\u001b[0;34m\u001b[0m\u001b[0;34m\u001b[0m\u001b[0m\n\u001b[0;32m----> 7\u001b[0;31m \u001b[0mrun_sim\u001b[0m\u001b[0;34m(\u001b[0m\u001b[0mfilestem\u001b[0m\u001b[0;34m=\u001b[0m\u001b[0;34mf'test/test{i:04d}'\u001b[0m\u001b[0;34m)\u001b[0m\u001b[0;34m\u001b[0m\u001b[0;34m\u001b[0m\u001b[0m\n\u001b[0m",
      "\u001b[0;32m/var/folders/18/fhf5cn256p3c92t460lnfct40000gn/T/ipykernel_95922/267939391.py\u001b[0m in \u001b[0;36mrun_sim\u001b[0;34m(filestem)\u001b[0m\n\u001b[1;32m     16\u001b[0m         \u001b[0msystem\u001b[0m\u001b[0;34m.\u001b[0m\u001b[0mrewind\u001b[0m\u001b[0;34m(\u001b[0m\u001b[0;34m)\u001b[0m\u001b[0;34m\u001b[0m\u001b[0;34m\u001b[0m\u001b[0m\n\u001b[1;32m     17\u001b[0m         \u001b[0msystem\u001b[0m\u001b[0;34m.\u001b[0m\u001b[0madd_moons\u001b[0m\u001b[0;34m(\u001b[0m\u001b[0;34m)\u001b[0m\u001b[0;34m\u001b[0m\u001b[0;34m\u001b[0m\u001b[0m\n\u001b[0;32m---> 18\u001b[0;31m         \u001b[0msystem\u001b[0m\u001b[0;34m.\u001b[0m\u001b[0mrun_moons\u001b[0m\u001b[0;34m(\u001b[0m\u001b[0;34m)\u001b[0m\u001b[0;34m\u001b[0m\u001b[0;34m\u001b[0m\u001b[0m\n\u001b[0m\u001b[1;32m     19\u001b[0m         \u001b[0msystem\u001b[0m\u001b[0;34m.\u001b[0m\u001b[0manalyse\u001b[0m\u001b[0;34m(\u001b[0m\u001b[0;34m)\u001b[0m\u001b[0;34m\u001b[0m\u001b[0;34m\u001b[0m\u001b[0m\n\u001b[1;32m     20\u001b[0m         \u001b[0msystem\u001b[0m\u001b[0;34m.\u001b[0m\u001b[0mmake_timeline\u001b[0m\u001b[0;34m(\u001b[0m\u001b[0;34m)\u001b[0m\u001b[0;34m\u001b[0m\u001b[0;34m\u001b[0m\u001b[0m\n",
      "\u001b[0;32m~/research/circumplanetary_discs/rebound/simulations/moons/metasim.py\u001b[0m in \u001b[0;36mrun_moons\u001b[0;34m(self)\u001b[0m\n\u001b[1;32m    332\u001b[0m         \u001b[0;32mwhile\u001b[0m \u001b[0mself\u001b[0m\u001b[0;34m.\u001b[0m\u001b[0msim\u001b[0m\u001b[0;34m.\u001b[0m\u001b[0mt\u001b[0m \u001b[0;34m<\u001b[0m \u001b[0mself\u001b[0m\u001b[0;34m.\u001b[0m\u001b[0mtend\u001b[0m\u001b[0;34m:\u001b[0m\u001b[0;34m\u001b[0m\u001b[0;34m\u001b[0m\u001b[0m\n\u001b[1;32m    333\u001b[0m             \u001b[0;32mtry\u001b[0m\u001b[0;34m:\u001b[0m\u001b[0;34m\u001b[0m\u001b[0;34m\u001b[0m\u001b[0m\n\u001b[0;32m--> 334\u001b[0;31m                 \u001b[0mself\u001b[0m\u001b[0;34m.\u001b[0m\u001b[0msim\u001b[0m\u001b[0;34m.\u001b[0m\u001b[0mintegrate\u001b[0m\u001b[0;34m(\u001b[0m\u001b[0mself\u001b[0m\u001b[0;34m.\u001b[0m\u001b[0mtend\u001b[0m\u001b[0;34m)\u001b[0m\u001b[0;34m\u001b[0m\u001b[0;34m\u001b[0m\u001b[0m\n\u001b[0m\u001b[1;32m    335\u001b[0m             \u001b[0;32mexcept\u001b[0m \u001b[0mrebound\u001b[0m\u001b[0;34m.\u001b[0m\u001b[0mEscape\u001b[0m \u001b[0;32mas\u001b[0m \u001b[0merror\u001b[0m\u001b[0;34m:\u001b[0m\u001b[0;34m\u001b[0m\u001b[0;34m\u001b[0m\u001b[0m\n\u001b[1;32m    336\u001b[0m \u001b[0;31m# save at this point\u001b[0m\u001b[0;34m\u001b[0m\u001b[0;34m\u001b[0m\u001b[0m\n",
      "\u001b[0;32m~/research/circumplanetary_discs/rebound/rebound/rebound/simulation.py\u001b[0m in \u001b[0;36mintegrate\u001b[0;34m(self, tmax, exact_finish_time)\u001b[0m\n\u001b[1;32m   1771\u001b[0m             \u001b[0;32mraise\u001b[0m \u001b[0mEscape\u001b[0m\u001b[0;34m(\u001b[0m\u001b[0;34m\"User caused exit. Simulation did not finish.\"\u001b[0m\u001b[0;34m)\u001b[0m \u001b[0;31m# should not occur in python\u001b[0m\u001b[0;34m\u001b[0m\u001b[0;34m\u001b[0m\u001b[0m\n\u001b[1;32m   1772\u001b[0m         \u001b[0;32mif\u001b[0m \u001b[0mret_value\u001b[0m \u001b[0;34m==\u001b[0m \u001b[0;36m6\u001b[0m\u001b[0;34m:\u001b[0m\u001b[0;34m\u001b[0m\u001b[0;34m\u001b[0m\u001b[0m\n\u001b[0;32m-> 1773\u001b[0;31m             \u001b[0;32mraise\u001b[0m \u001b[0mKeyboardInterrupt\u001b[0m\u001b[0;34m\u001b[0m\u001b[0;34m\u001b[0m\u001b[0m\n\u001b[0m\u001b[1;32m   1774\u001b[0m         \u001b[0;32mif\u001b[0m \u001b[0mret_value\u001b[0m \u001b[0;34m==\u001b[0m \u001b[0;36m7\u001b[0m\u001b[0;34m:\u001b[0m\u001b[0;34m\u001b[0m\u001b[0;34m\u001b[0m\u001b[0m\n\u001b[1;32m   1775\u001b[0m             \u001b[0;32mraise\u001b[0m \u001b[0mCollision\u001b[0m\u001b[0;34m(\u001b[0m\u001b[0;34m\"Two particles collided (d < r1+r2)\"\u001b[0m\u001b[0;34m)\u001b[0m\u001b[0;34m\u001b[0m\u001b[0;34m\u001b[0m\u001b[0m\n",
      "\u001b[0;31mKeyboardInterrupt\u001b[0m: "
     ]
    }
   ],
   "source": [
    "#Nsys = 1\n",
    "\n",
    "#for i in range(Nsys):\n",
    "#    run_sim(filestem=f'test/test{i:04d}')\n",
    "\n",
    "i = 47\n",
    "run_sim(filestem=f'test/test{i:04d}')"
   ]
  },
  {
   "cell_type": "code",
   "execution_count": null,
   "id": "031f0a54",
   "metadata": {},
   "outputs": [],
   "source": []
  }
 ],
 "metadata": {
  "kernelspec": {
   "display_name": "Python 3 (ipykernel)",
   "language": "python",
   "name": "python3"
  },
  "language_info": {
   "codemirror_mode": {
    "name": "ipython",
    "version": 3
   },
   "file_extension": ".py",
   "mimetype": "text/x-python",
   "name": "python",
   "nbconvert_exporter": "python",
   "pygments_lexer": "ipython3",
   "version": "3.9.7"
  }
 },
 "nbformat": 4,
 "nbformat_minor": 5
}

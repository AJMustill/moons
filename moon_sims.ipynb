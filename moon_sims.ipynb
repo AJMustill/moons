{
 "cells": [
  {
   "cell_type": "code",
   "execution_count": null,
   "id": "c1c5637b",
   "metadata": {},
   "outputs": [],
   "source": [
    "import rebound\n",
    "import time\n",
    "import sys\n",
    "import warnings\n",
    "import numpy as np\n",
    "from matplotlib import pyplot as plt\n",
    "from astropy import units as u\n",
    "from astropy import constants as c\n",
    "\n",
    "# local imports\n",
    "import heartbeat\n",
    "import globs\n",
    "import metasim\n",
    "import unhash"
   ]
  },
  {
   "cell_type": "code",
   "execution_count": null,
   "id": "67031c7f",
   "metadata": {},
   "outputs": [],
   "source": [
    "#Yes REBOUND I know I might restore from save...\n",
    "warnings.filterwarnings(\"ignore\",message=\"You have to reset function pointers after creating a reb_simulation \"\n",
    "                        \"struct with a binary file\")\n",
    "warnings.filterwarnings(\"ignore\",message=\"File in use for SimulationArchive already exists. \"\n",
    "                        \"Snapshots will be appended\")"
   ]
  },
  {
   "cell_type": "code",
   "execution_count": null,
   "id": "e6f3042a",
   "metadata": {},
   "outputs": [],
   "source": [
    "read_only = True\n",
    "\n",
    "systems = []\n",
    "\n",
    "def run_sim(filestem='test/test',tmoons=1e4):\n",
    "    \n",
    "    # global variables\n",
    "\n",
    "    globs.initialise()\n",
    "\n",
    "    globs.glob_dclo = 1. #CE distance to check in rH\n",
    "    #dir = 'test/'\n",
    "    globs.glob_archive = ''\n",
    "    #globals.glob_names = []\n",
    "    globs.glob_is_close = False\n",
    "\n",
    "    system = metasim.MetaSim(filestem=filestem,tmoons=tmoons)\n",
    "    if not read_only:\n",
    "        system.run_planets()\n",
    "        if globs.glob_is_close:\n",
    "            system.rewind()\n",
    "            system.add_moons()\n",
    "            system.run_moons()\n",
    "\n",
    "    system.analyse()\n",
    "    system.make_timeline()\n",
    "    \n",
    "    systems.append(system)"
   ]
  },
  {
   "cell_type": "code",
   "execution_count": null,
   "id": "6c6b38e1",
   "metadata": {
    "scrolled": true
   },
   "outputs": [],
   "source": [
    "N_sys = 100\n",
    "\n",
    "for i in range(N_sys):\n",
    "    run_sim(filestem=f'test/test{i:04d}')\n"
   ]
  },
  {
   "cell_type": "code",
   "execution_count": null,
   "id": "a270ceb9",
   "metadata": {},
   "outputs": [],
   "source": [
    "moon_sims = [s for s in systems if s.has_moons]\n",
    "N_moon_sims = len(moon_sims)\n",
    "N_surv_hist = [sum([s.npl == i for s in moon_sims]) for i in (0,1,2)]\n",
    "print(f\"# sims where moons added: {N_moon_sims} out of {N_sys}\")\n",
    "print(f\"# sims with [0, 1, 2] surviving planets: {N_surv_hist} \"\n",
    "      f\"out of {N_moon_sims}\")"
   ]
  },
  {
   "cell_type": "code",
   "execution_count": null,
   "id": "a34800e8",
   "metadata": {},
   "outputs": [],
   "source": [
    "where_1_surv = np.where([s.npl == 1 for s in moon_sims])[0]\n",
    "where_2_surv = np.where([s.npl == 2 for s in moon_sims])[0]\n",
    "a = [[o.a for o in [s.orb[p] for p in s.surv_pl]] for s in moon_sims]\n",
    "e = [[o.e for o in [s.orb[p] for p in s.surv_pl]] for s in moon_sims]\n",
    "n = [[s.n_debris[p] for p in s.surv_pl] for s in moon_sims]"
   ]
  },
  {
   "cell_type": "code",
   "execution_count": null,
   "id": "e4d848df",
   "metadata": {},
   "outputs": [],
   "source": [
    "cmap = 'Set1' \n",
    "plt.figure(figsize=(5,4))\n",
    "plt.scatter([a[w] for w in where_1_surv],[e[w] for w in where_1_surv],c=[n[w] for w in where_1_surv],\n",
    "            cmap=cmap,marker='*',label='1 planet survives',vmin=0,vmax=8,alpha=0.6,s=100)\n",
    "plt.scatter([a[w] for w in where_2_surv],[e[w] for w in where_2_surv],c=[n[w] for w in where_2_surv],\n",
    "            cmap=cmap,marker='o',label='2 planets survive',vmin=0,vmax=8,alpha=0.6)\n",
    "plt.xscale('log')\n",
    "plt.xlabel('a [au]')\n",
    "plt.xlim([0.6,60])\n",
    "plt.ylim([0,1])\n",
    "plt.ylabel('e')\n",
    "plt.legend()\n",
    "plt.colorbar(label='number bound debris trails')\n",
    "\n",
    "plt.savefig('a-e.pdf')"
   ]
  },
  {
   "cell_type": "code",
   "execution_count": null,
   "id": "10b577bc",
   "metadata": {},
   "outputs": [],
   "source": [
    "N_debris_1_surv = [n[w] for w in where_1_surv]\n",
    "N_debris_2_surv = [n[w] for w in where_2_surv]"
   ]
  },
  {
   "cell_type": "code",
   "execution_count": null,
   "id": "c9982ffa",
   "metadata": {},
   "outputs": [],
   "source": [
    "N_debris_1_surv_hist = np.array([np.sum(np.array(N_debris_1_surv) == i) for i in (0,1,2,3,4,5,6,7,8)])\n",
    "N_debris_2_surv_hist = np.array([np.sum(np.array(N_debris_2_surv) == i) for i in (0,1,2,3,4,5,6,7,8)])"
   ]
  },
  {
   "cell_type": "code",
   "execution_count": null,
   "id": "a0756e82",
   "metadata": {},
   "outputs": [],
   "source": [
    "print(f\"{np.sum(N_debris_1_surv_hist[1:])} of {np.sum(N_debris_1_surv_hist)} planets in single-planet systems \"\n",
    "      f\"have bound debris\")\n",
    "print(f\"{np.sum(N_debris_2_surv_hist[1:])} of {np.sum(N_debris_2_surv_hist)} planets in two-planet systems \"\n",
    "      f\"have bound debris\")"
   ]
  },
  {
   "cell_type": "code",
   "execution_count": null,
   "id": "b53cce5b",
   "metadata": {},
   "outputs": [],
   "source": [
    "print(N_debris_1_surv_hist + N_debris_2_surv_hist)\n",
    "print(N_debris_1_surv_hist)\n",
    "print(N_debris_2_surv_hist)"
   ]
  },
  {
   "cell_type": "code",
   "execution_count": null,
   "id": "f284afd3",
   "metadata": {},
   "outputs": [],
   "source": [
    "def laplace_rule(r,n):\n",
    "    \n",
    "    frac = r/n\n",
    "    best = (r+1)/(n+2)\n",
    "    \n",
    "    theta = np.linspace(0,1,1001)\n",
    "    \n",
    "    p = theta**r * (1-theta)**(n-r)\n",
    "    p = p/np.sum(p)\n",
    "    \n",
    "    c = np.cumsum(p)\n",
    "    \n",
    "    if r == 0:\n",
    "        low = 0\n",
    "        up = np.interp(0.68,c,theta)\n",
    "    else:\n",
    "        low = np.interp(0.16,c,theta)\n",
    "        up = np.interp(0.84,c,theta)\n",
    "    \n",
    "    return [frac,best,low,up]"
   ]
  },
  {
   "cell_type": "code",
   "execution_count": null,
   "id": "abaaa843",
   "metadata": {},
   "outputs": [],
   "source": [
    "f_tot = np.zeros(9)\n",
    "f_1 = np.zeros(9)\n",
    "f_2 = np.zeros(9)\n",
    "\n",
    "l_tot = np.zeros(9)\n",
    "l_1 = np.zeros(9)\n",
    "l_2 = np.zeros(9)\n",
    "\n",
    "u_tot = np.zeros(9)\n",
    "u_1 = np.zeros(9)\n",
    "u_2 = np.zeros(9)\n",
    "\n",
    "for i in range(9):\n",
    "    f,b,l,u = laplace_rule((N_debris_1_surv_hist[i] + N_debris_2_surv_hist[i]),\n",
    "                           (np.sum(N_debris_1_surv_hist) + np.sum(N_debris_2_surv_hist)))\n",
    "    f_tot[i] = f\n",
    "    l_tot[i] = f-l\n",
    "    u_tot[i] = u-f\n",
    "    \n",
    "    f,b,l,u = laplace_rule(N_debris_1_surv_hist[i],np.sum(N_debris_1_surv_hist))\n",
    "    f_1[i] = f\n",
    "    l_1[i] = f-l\n",
    "    u_1[i] = u-f\n",
    "    \n",
    "    f,b,l,u = laplace_rule(N_debris_2_surv_hist[i],np.sum(N_debris_2_surv_hist))\n",
    "    f_2[i] = f\n",
    "    l_2[i] = f-l\n",
    "    u_2[i] = u-f"
   ]
  },
  {
   "cell_type": "code",
   "execution_count": null,
   "id": "3de65cd8",
   "metadata": {},
   "outputs": [],
   "source": [
    "f_tot = ((N_debris_1_surv_hist + N_debris_2_surv_hist)/\n",
    "         (np.sum(N_debris_1_surv_hist) + np.sum(N_debris_2_surv_hist)))\n",
    "f_1 = N_debris_1_surv_hist/np.sum(N_debris_1_surv_hist)\n",
    "f_2 = N_debris_2_surv_hist/np.sum(N_debris_2_surv_hist)\n",
    "print(f_tot*100)\n",
    "print(f_1*100)\n",
    "print(f_2*100)"
   ]
  },
  {
   "cell_type": "code",
   "execution_count": null,
   "id": "c99d3121",
   "metadata": {},
   "outputs": [],
   "source": [
    "l_tot"
   ]
  },
  {
   "cell_type": "code",
   "execution_count": null,
   "id": "4101337c",
   "metadata": {},
   "outputs": [],
   "source": [
    "plt.figure(figsize=[5,4])\n",
    "x = np.arange(0,9)\n",
    "delta = 0.15\n",
    "plt.errorbar(x,f_tot,[l_tot,u_tot],fmt='o--',label='All systems')\n",
    "plt.errorbar(x+delta,f_1,[l_1,u_1],fmt='o--',label='Single-planet')\n",
    "plt.errorbar(x+2*delta,f_2,[l_2,u_2],fmt='o--',label='Two-planet')\n",
    "plt.legend()\n",
    "plt.xlabel('Number of debris trails')\n",
    "plt.ylabel('Fraction of planets')\n",
    "plt.savefig('fractions.pdf')"
   ]
  },
  {
   "cell_type": "code",
   "execution_count": null,
   "id": "f13b0914",
   "metadata": {},
   "outputs": [],
   "source": [
    "where_unfinished = np.where([not s.is_stop for s in moon_sims])[0]"
   ]
  },
  {
   "cell_type": "code",
   "execution_count": null,
   "id": "913a8fbe",
   "metadata": {},
   "outputs": [],
   "source": [
    "where_unfinished"
   ]
  },
  {
   "cell_type": "code",
   "execution_count": null,
   "id": "6482aa8d",
   "metadata": {},
   "outputs": [],
   "source": [
    "[n[w] for w in where_unfinished]"
   ]
  },
  {
   "cell_type": "code",
   "execution_count": null,
   "id": "02eb5c73",
   "metadata": {},
   "outputs": [],
   "source": [
    "print(np.mean(N_debris_1_surv))\n",
    "print(np.mean(N_debris_2_surv))"
   ]
  },
  {
   "cell_type": "code",
   "execution_count": null,
   "id": "ead92b77",
   "metadata": {},
   "outputs": [],
   "source": [
    "i_trail = []\n",
    "i_pl = []\n",
    "i_host = []\n",
    "Om_trail = []\n",
    "Om_host = []\n",
    "for s in moon_sims:\n",
    "    i_pl.extend([np.degrees(p.inc) for p in s.sim.particles if \"Planet\" in unhash.unhash(p.hash,globs.glob_names)])\n",
    "    for t in s.trails:\n",
    "        if t.host in s.surv_pl:\n",
    "            i_trail.append(np.degrees(t.I))\n",
    "            i_host.append(np.degrees(s.sim.particles[rebound.hash(t.host)].inc))\n",
    "            Om_trail.append(np.degrees(t.Om))\n",
    "            Om_host.append(np.degrees(s.sim.particles[rebound.hash(t.host)].omega))"
   ]
  },
  {
   "cell_type": "code",
   "execution_count": null,
   "id": "1a67857e",
   "metadata": {},
   "outputs": [],
   "source": [
    "plt.figure(figsize=[5,4])\n",
    "\n",
    "plt.hist(i_trail,density=True,label='Trails')\n",
    "plt.hist(i_pl,density=True,label='Planets')\n",
    "\n",
    "plt.legend()\n",
    "\n",
    "plt.xlabel('Inclination [deg]')\n",
    "plt.ylabel('Frequency')\n",
    "\n",
    "plt.show()"
   ]
  },
  {
   "cell_type": "code",
   "execution_count": null,
   "id": "34c40f21",
   "metadata": {},
   "outputs": [],
   "source": [
    "def Imut(I1,O1,I2,O2,rad=False):\n",
    "    if rad:\n",
    "        i1,o1,I2,o2 = I1,O1,I2,O2\n",
    "    else:\n",
    "        i1 = np.radians(I1)\n",
    "        o1 = np.radians(O1)\n",
    "        i2 = np.radians(I2)\n",
    "        o2 = np.radians(O2)\n",
    "    \n",
    "    imut = np.arccos(np.sin(i1)*np.sin(i2)*np.sin(o1)*np.sin(o2)\n",
    "                    +np.sin(i1)*np.sin(i2)*np.cos(o1)*np.cos(o2)\n",
    "                    +np.cos(i1)*np.cos(i2))\n",
    "    \n",
    "    if rad:\n",
    "        return imut\n",
    "    else:\n",
    "        return np.degrees(imut)"
   ]
  },
  {
   "cell_type": "code",
   "execution_count": null,
   "id": "9882b069",
   "metadata": {},
   "outputs": [],
   "source": [
    "imut = Imut(i_trail,Om_trail,i_host,Om_host) #I_mut between debris and host planet\n",
    "imut_t = []\n",
    "for s in moon_sims:\n",
    "    for t in s.trails:\n",
    "        if t.host in s.surv_pl:\n",
    "            for t2 in s.trails:\n",
    "                if t != t2 and t.host == t2.host:\n",
    "                    imut_t.append(Imut(np.degrees(t.I),np.degrees(t.Om),np.degrees(t2.I),np.degrees(t2.Om)))"
   ]
  },
  {
   "cell_type": "code",
   "execution_count": null,
   "id": "fb391616",
   "metadata": {},
   "outputs": [],
   "source": [
    "# inclinations of disc normal wrt orbital normal for Kenworthy objects\n",
    "i_los = np.radians(np.array([77.0,77.8,56.8]))\n",
    "phi = np.radians(np.array([-36.8,18.1,41.2]))\n",
    "\n",
    "cosI = np.sin(i_los)*np.cos(phi)\n",
    "I = np.degrees(np.arccos(cosI))\n",
    "name = ['EPIC 2202','EPIC 2043','V928 Tau']\n",
    "\n",
    "print(I)"
   ]
  },
  {
   "cell_type": "code",
   "execution_count": null,
   "id": "3a0875de",
   "metadata": {},
   "outputs": [],
   "source": [
    "plt.figure(figsize=[5,4])\n",
    "\n",
    "plt.hist(imut,density=True,label='Debris vs.\\ planet',bins=np.arange(0,180,15),alpha=0.6)\n",
    "plt.hist(imut_t,density=True,label='Debris vs.\\ debris',bins=np.arange(0,180,15),alpha=0.6)\n",
    "for i in range(len(I)):\n",
    "    plt.plot([I[i],I[i]],[0,0.012],c='b')\n",
    "    plt.text(I[i]+2,0.005,name[i],rotation=90)\n",
    "plt.xlabel('Mutual inclination [deg]')\n",
    "plt.ylabel('Normalised frequency')\n",
    "plt.legend()\n",
    "plt.savefig('inc.pdf')"
   ]
  },
  {
   "cell_type": "code",
   "execution_count": null,
   "id": "8cadb0d3",
   "metadata": {},
   "outputs": [],
   "source": [
    "# count num planets in a collision\n",
    "#   0 is moon-moon collision\n",
    "#   1 is moon-planet TDE\n",
    "#   2 is planet--planet collision\n",
    "colltype = np.array([np.sum([\"Planet\" in n for n in coll.names]) for m in moon_sims for coll in m.colls])"
   ]
  },
  {
   "cell_type": "code",
   "execution_count": null,
   "id": "7a8a31fb",
   "metadata": {},
   "outputs": [],
   "source": [
    "colltype_hist = [np.sum(colltype == i) for i in range(3)]"
   ]
  },
  {
   "cell_type": "code",
   "execution_count": null,
   "id": "84704ded",
   "metadata": {},
   "outputs": [],
   "source": [
    "print(colltype_hist)"
   ]
  },
  {
   "cell_type": "code",
   "execution_count": null,
   "id": "749e9615",
   "metadata": {},
   "outputs": [],
   "source": []
  }
 ],
 "metadata": {
  "kernelspec": {
   "display_name": "Python 3 (ipykernel)",
   "language": "python",
   "name": "python3"
  },
  "language_info": {
   "codemirror_mode": {
    "name": "ipython",
    "version": 3
   },
   "file_extension": ".py",
   "mimetype": "text/x-python",
   "name": "python",
   "nbconvert_exporter": "python",
   "pygments_lexer": "ipython3",
   "version": "3.9.18"
  }
 },
 "nbformat": 4,
 "nbformat_minor": 5
}
